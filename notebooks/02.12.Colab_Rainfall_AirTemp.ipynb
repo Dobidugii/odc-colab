{
  "cells": [
    {
      "cell_type": "markdown",
      "metadata": {},
      "source": [
        "<a href=\"https://colab.research.google.com/github/ceos-seo/odc-colab/blob/master/notebooks/02.12.Colab_Rainfall_AirTemp.ipynb\" target=\"_parent\"><img src=\"https://colab.research.google.com/assets/colab-badge.svg\" alt=\"Open In Colab\"/></a>"
      ]
    },
    {
      "cell_type": "markdown",
      "metadata": {
        "id": "in26NO4C5bmi"
      },
      "source": [
        "## ERA5 Climate Data - Rainfall and Air Temperature \n",
        "This notebook uses the ECMWF ERA5 climate reanalysis product from Google (https://developers.google.com/earth-engine/datasets/catalog/ECMWF_ERA5_LAND_MONTHLY). This product combines model data with observations from across the world into a globally complete and consistent dataset. The product produces data that goes several decades back in time, providing an accurate description of the climate of the past. The data presented here is a subset of the full ERA5-Land dataset post-processed by ECMWF. Monthly-mean averages have been pre-calculated to facilitate many applications requiring easy and fast access to the data, when sub-monthly fields are not required. The spatial resolution is 11.132 km. The dataset starts in 1981."
      ]
    },
    {
      "cell_type": "markdown",
      "metadata": {
        "id": "UsS3Q60nIVxZ"
      },
      "source": [
        "## Instructions for Execution\n",
        "It is suggested that users first execute the notebook \"as is\" to successfully complete the Google authorizations and view sample results. Then, users should look for \"MODIFY HERE\" labels at the top of code blocks to identify code that can be modified. These include:<br>\n",
        "<br>#1 - Select spatial region\n",
        "<br>#2 - Select the time range\n",
        "<br>#3 - Select the measurements\n",
        "<br>#4 - Select CSV output parameters\n",
        "<br><br>\n",
        "Once the full notebook has been run, users can run individual code blocks using \"Shift-Return\" or run segments of the code using the Runtime menu. Users do not have to go thru the Google authorization steps for additional execution cycles. "
      ]
    },
    {
      "cell_type": "code",
      "execution_count": null,
      "metadata": {
        "colab": {
          "base_uri": "https://localhost:8080/"
        },
        "id": "IC7O9GJa5hQi",
        "outputId": "33a1b148-932b-4aca-90b1-7d09e985983d"
      },
      "outputs": [],
      "source": [
        "!wget -nc https://raw.githubusercontent.com/ceos-seo/odc-colab/master/odc_colab.py\n",
        "from odc_colab import odc_colab_init\n",
        "odc_colab_init(install_odc_gee=True)"
      ]
    },
    {
      "cell_type": "code",
      "execution_count": null,
      "metadata": {
        "colab": {
          "base_uri": "https://localhost:8080/"
        },
        "id": "hnJLtTwa5ho1",
        "outputId": "6e22692d-f228-4cae-9099-8b4cff8b0fa1"
      },
      "outputs": [],
      "source": [
        "from odc_colab import populate_db\n",
        "populate_db()"
      ]
    },
    {
      "cell_type": "markdown",
      "metadata": {
        "id": "u_ZioqrLO3AU"
      },
      "source": [
        "## Load the Data Cube Configuration and Import Utilities"
      ]
    },
    {
      "cell_type": "code",
      "execution_count": null,
      "metadata": {
        "colab": {
          "base_uri": "https://localhost:8080/"
        },
        "id": "bwhoQbE45bmm",
        "outputId": "dae340f1-c3b7-4d3a-bbd0-09eecd91d1cb"
      },
      "outputs": [],
      "source": [
        "# Supress Warning \n",
        "import warnings\n",
        "warnings.filterwarnings('ignore')\n",
        "\n",
        "# Load Data Cube Configuration\n",
        "from odc_gee.earthengine import Datacube\n",
        "dc = Datacube()\n",
        "\n",
        "# Import Utilities\n",
        "from utils.data_cube_utilities.dc_display_map import display_map\n",
        "import folium\n",
        "import numpy as np\n",
        "import xarray as xr\n",
        "import matplotlib.pyplot as plt"
      ]
    },
    {
      "cell_type": "markdown",
      "metadata": {
        "id": "4v2GnKVQ5bmo"
      },
      "source": [
        "### Define the Analysis Inputs: Region, Time Period, Variables"
      ]
    },
    {
      "cell_type": "code",
      "execution_count": null,
      "metadata": {
        "id": "AawQrgvB5bmp"
      },
      "outputs": [],
      "source": [
        "#1 MODIFY HERE\n",
        "# Define the analysis region (Lat-Lon box)\n",
        "\n",
        "# Kingston, Jamaica\n",
        "lat = (17.9468, 18.0943) \n",
        "lon = (-76.8590, -76.7347)  "
      ]
    },
    {
      "cell_type": "code",
      "execution_count": null,
      "metadata": {
        "id": "SG1hICeW5bmq"
      },
      "outputs": [],
      "source": [
        "#2 MODIFY HERE\n",
        "# Define the time window\n",
        "\n",
        "time_start = '2018-01-01'\n",
        "time_end = '2021-12-31'"
      ]
    },
    {
      "cell_type": "code",
      "execution_count": null,
      "metadata": {
        "colab": {
          "base_uri": "https://localhost:8080/",
          "height": 821
        },
        "id": "i5iEBWbb5bmq",
        "outputId": "094d6347-b38b-4bd4-cfad-00e0bba9bff1"
      },
      "outputs": [
        {
          "data": {
            "text/html": [
              "<iframe src=\"about:blank\" width=\"800\" height=\"800\"style=\"border:none !important;\" data-html=%3C%21DOCTYPE%20html%3E%0A%3Chead%3E%20%20%20%20%0A%20%20%20%20%3Cmeta%20http-equiv%3D%22content-type%22%20content%3D%22text/html%3B%20charset%3DUTF-8%22%20/%3E%0A%20%20%20%20%3Cscript%3EL_PREFER_CANVAS%3Dfalse%3B%20L_NO_TOUCH%3Dfalse%3B%20L_DISABLE_3D%3Dfalse%3B%3C/script%3E%0A%20%20%20%20%3Cscript%20src%3D%22https%3A//cdn.jsdelivr.net/npm/leaflet%401.4.0/dist/leaflet.js%22%3E%3C/script%3E%0A%20%20%20%20%3Cscript%20src%3D%22https%3A//code.jquery.com/jquery-1.12.4.min.js%22%3E%3C/script%3E%0A%20%20%20%20%3Cscript%20src%3D%22https%3A//maxcdn.bootstrapcdn.com/bootstrap/3.2.0/js/bootstrap.min.js%22%3E%3C/script%3E%0A%20%20%20%20%3Cscript%20src%3D%22https%3A//cdnjs.cloudflare.com/ajax/libs/Leaflet.awesome-markers/2.0.2/leaflet.awesome-markers.js%22%3E%3C/script%3E%0A%20%20%20%20%3Clink%20rel%3D%22stylesheet%22%20href%3D%22https%3A//cdn.jsdelivr.net/npm/leaflet%401.4.0/dist/leaflet.css%22/%3E%0A%20%20%20%20%3Clink%20rel%3D%22stylesheet%22%20href%3D%22https%3A//maxcdn.bootstrapcdn.com/bootstrap/3.2.0/css/bootstrap.min.css%22/%3E%0A%20%20%20%20%3Clink%20rel%3D%22stylesheet%22%20href%3D%22https%3A//maxcdn.bootstrapcdn.com/bootstrap/3.2.0/css/bootstrap-theme.min.css%22/%3E%0A%20%20%20%20%3Clink%20rel%3D%22stylesheet%22%20href%3D%22https%3A//maxcdn.bootstrapcdn.com/font-awesome/4.6.3/css/font-awesome.min.css%22/%3E%0A%20%20%20%20%3Clink%20rel%3D%22stylesheet%22%20href%3D%22https%3A//cdnjs.cloudflare.com/ajax/libs/Leaflet.awesome-markers/2.0.2/leaflet.awesome-markers.css%22/%3E%0A%20%20%20%20%3Clink%20rel%3D%22stylesheet%22%20href%3D%22https%3A//rawcdn.githack.com/python-visualization/folium/master/folium/templates/leaflet.awesome.rotate.css%22/%3E%0A%20%20%20%20%3Cstyle%3Ehtml%2C%20body%20%7Bwidth%3A%20100%25%3Bheight%3A%20100%25%3Bmargin%3A%200%3Bpadding%3A%200%3B%7D%3C/style%3E%0A%20%20%20%20%3Cstyle%3E%23map%20%7Bposition%3Aabsolute%3Btop%3A0%3Bbottom%3A0%3Bright%3A0%3Bleft%3A0%3B%7D%3C/style%3E%0A%20%20%20%20%0A%20%20%20%20%3Cmeta%20name%3D%22viewport%22%20content%3D%22width%3Ddevice-width%2C%0A%20%20%20%20%20%20%20%20initial-scale%3D1.0%2C%20maximum-scale%3D1.0%2C%20user-scalable%3Dno%22%20/%3E%0A%20%20%20%20%3Cstyle%3E%23map_71c1620d44454e7c8f03584b29d17655%20%7B%0A%20%20%20%20%20%20%20%20position%3A%20relative%3B%0A%20%20%20%20%20%20%20%20width%3A%20100.0%25%3B%0A%20%20%20%20%20%20%20%20height%3A%20100.0%25%3B%0A%20%20%20%20%20%20%20%20left%3A%200.0%25%3B%0A%20%20%20%20%20%20%20%20top%3A%200.0%25%3B%0A%20%20%20%20%20%20%20%20%7D%0A%20%20%20%20%3C/style%3E%0A%3C/head%3E%0A%3Cbody%3E%20%20%20%20%0A%20%20%20%20%0A%20%20%20%20%3Cdiv%20class%3D%22folium-map%22%20id%3D%22map_71c1620d44454e7c8f03584b29d17655%22%20%3E%3C/div%3E%0A%3C/body%3E%0A%3Cscript%3E%20%20%20%20%0A%20%20%20%20%0A%20%20%20%20%0A%20%20%20%20%20%20%20%20var%20bounds%20%3D%20null%3B%0A%20%20%20%20%0A%0A%20%20%20%20var%20map_71c1620d44454e7c8f03584b29d17655%20%3D%20L.map%28%0A%20%20%20%20%20%20%20%20%27map_71c1620d44454e7c8f03584b29d17655%27%2C%20%7B%0A%20%20%20%20%20%20%20%20center%3A%20%5B18.02055%2C%20-76.79685%5D%2C%0A%20%20%20%20%20%20%20%20zoom%3A%2012%2C%0A%20%20%20%20%20%20%20%20maxBounds%3A%20bounds%2C%0A%20%20%20%20%20%20%20%20layers%3A%20%5B%5D%2C%0A%20%20%20%20%20%20%20%20worldCopyJump%3A%20false%2C%0A%20%20%20%20%20%20%20%20crs%3A%20L.CRS.EPSG3857%2C%0A%20%20%20%20%20%20%20%20zoomControl%3A%20true%2C%0A%20%20%20%20%20%20%20%20%7D%29%3B%0A%0A%0A%20%20%20%20%0A%20%20%20%20%0A%20%20%20%20%20%20%20%20%20%20%20%20var%20feature_group_aa8934f18d0d478c82fbcaf49d457c24%20%3D%20L.featureGroup%28%0A%20%20%20%20%20%20%20%20%20%20%20%20%20%20%20%20%29.addTo%28map_71c1620d44454e7c8f03584b29d17655%29%3B%0A%20%20%20%20%20%20%20%20%0A%20%20%20%20var%20tile_layer_ab54371f2a3c431e94690b67136e2801%20%3D%20L.tileLayer%28%0A%20%20%20%20%20%20%20%20%27https%3A//server.arcgisonline.com/ArcGIS/rest/services/World_Imagery/MapServer/tile/%7Bz%7D/%7By%7D/%7Bx%7D%27%2C%0A%20%20%20%20%20%20%20%20%7B%0A%20%20%20%20%20%20%20%20%22attribution%22%3A%20%22Tiles%20%26copy%3B%20Esri%20%26mdash%3B%20Source%3A%20Esri%2C%20i-cubed%2C%20USDA%2C%20USGS%2C%20AEX%2C%20GeoEye%2C%20Getmapping%2C%20Aerogrid%2C%20IGN%2C%20IGP%2C%20UPR-EGP%2C%20and%20the%20GIS%20User%20Community%22%2C%0A%20%20%20%20%20%20%20%20%22detectRetina%22%3A%20false%2C%0A%20%20%20%20%20%20%20%20%22maxNativeZoom%22%3A%2018%2C%0A%20%20%20%20%20%20%20%20%22maxZoom%22%3A%2018%2C%0A%20%20%20%20%20%20%20%20%22minZoom%22%3A%200%2C%0A%20%20%20%20%20%20%20%20%22noWrap%22%3A%20false%2C%0A%20%20%20%20%20%20%20%20%22opacity%22%3A%201%2C%0A%20%20%20%20%20%20%20%20%22subdomains%22%3A%20%22abc%22%2C%0A%20%20%20%20%20%20%20%20%22tms%22%3A%20false%0A%7D%29.addTo%28feature_group_aa8934f18d0d478c82fbcaf49d457c24%29%3B%0A%20%20%20%20var%20tile_layer_da0c178f50de45d6a57e7842bf5124ff%20%3D%20L.tileLayer%28%0A%20%20%20%20%20%20%20%20%27https%3A//stamen-tiles-%7Bs%7D.a.ssl.fastly.net/toner-labels/%7Bz%7D/%7Bx%7D/%7By%7D%7Br%7D.png%27%2C%0A%20%20%20%20%20%20%20%20%7B%0A%20%20%20%20%20%20%20%20%22attribution%22%3A%20%22Map%20tiles%20by%20%3Ca%20href%3D%5C%22http%3A//stamen.com%5C%22%3EStamen%20Design%3C/a%3E%2C%20%3Ca%20href%3D%5C%22http%3A//creativecommons.org/licenses/by/3.0%5C%22%3ECC%20BY%203.0%3C/a%3E%20%26mdash%3B%20Map%20data%20%26copy%3B%20%3Ca%20href%3D%5C%22https%3A//www.openstreetmap.org/copyright%5C%22%3EOpenStreetMap%3C/a%3E%20contributors%22%2C%0A%20%20%20%20%20%20%20%20%22detectRetina%22%3A%20false%2C%0A%20%20%20%20%20%20%20%20%22maxNativeZoom%22%3A%2020%2C%0A%20%20%20%20%20%20%20%20%22maxZoom%22%3A%2020%2C%0A%20%20%20%20%20%20%20%20%22minZoom%22%3A%200%2C%0A%20%20%20%20%20%20%20%20%22noWrap%22%3A%20false%2C%0A%20%20%20%20%20%20%20%20%22opacity%22%3A%201%2C%0A%20%20%20%20%20%20%20%20%22subdomains%22%3A%20%22abcd%22%2C%0A%20%20%20%20%20%20%20%20%22tms%22%3A%20false%0A%7D%29.addTo%28feature_group_aa8934f18d0d478c82fbcaf49d457c24%29%3B%0A%20%20%20%20var%20tile_layer_12a92791443d476aa27c45b05d219360%20%3D%20L.tileLayer%28%0A%20%20%20%20%20%20%20%20%27https%3A//stamen-tiles-%7Bs%7D.a.ssl.fastly.net/toner-lines/%7Bz%7D/%7Bx%7D/%7By%7D%7Br%7D.png%27%2C%0A%20%20%20%20%20%20%20%20%7B%0A%20%20%20%20%20%20%20%20%22attribution%22%3A%20%22Map%20tiles%20by%20%3Ca%20href%3D%5C%22http%3A//stamen.com%5C%22%3EStamen%20Design%3C/a%3E%2C%20%3Ca%20href%3D%5C%22http%3A//creativecommons.org/licenses/by/3.0%5C%22%3ECC%20BY%203.0%3C/a%3E%20%26mdash%3B%20Map%20data%20%26copy%3B%20%3Ca%20href%3D%5C%22https%3A//www.openstreetmap.org/copyright%5C%22%3EOpenStreetMap%3C/a%3E%20contributors%22%2C%0A%20%20%20%20%20%20%20%20%22detectRetina%22%3A%20false%2C%0A%20%20%20%20%20%20%20%20%22maxNativeZoom%22%3A%2020%2C%0A%20%20%20%20%20%20%20%20%22maxZoom%22%3A%2020%2C%0A%20%20%20%20%20%20%20%20%22minZoom%22%3A%200%2C%0A%20%20%20%20%20%20%20%20%22noWrap%22%3A%20false%2C%0A%20%20%20%20%20%20%20%20%22opacity%22%3A%200.4%2C%0A%20%20%20%20%20%20%20%20%22subdomains%22%3A%20%22abcd%22%2C%0A%20%20%20%20%20%20%20%20%22tms%22%3A%20false%0A%7D%29.addTo%28feature_group_aa8934f18d0d478c82fbcaf49d457c24%29%3B%0A%20%20%20%20%0A%20%20%20%20%20%20%20%20%20%20%20%20%20%20%20%20var%20poly_line_98e0de08532b439bafc3507c181816db%20%3D%20L.polyline%28%0A%20%20%20%20%20%20%20%20%20%20%20%20%20%20%20%20%20%20%20%20%5B%5B17.9468%2C%20-76.859%5D%2C%20%5B17.9468%2C%20-76.7347%5D%2C%20%5B18.0943%2C%20-76.7347%5D%2C%20%5B18.0943%2C%20-76.859%5D%2C%20%5B17.9468%2C%20-76.859%5D%5D%2C%0A%20%20%20%20%20%20%20%20%20%20%20%20%20%20%20%20%20%20%20%20%7B%0A%20%20%22bubblingMouseEvents%22%3A%20true%2C%0A%20%20%22color%22%3A%20%22red%22%2C%0A%20%20%22dashArray%22%3A%20null%2C%0A%20%20%22dashOffset%22%3A%20null%2C%0A%20%20%22fill%22%3A%20false%2C%0A%20%20%22fillColor%22%3A%20%22red%22%2C%0A%20%20%22fillOpacity%22%3A%200.2%2C%0A%20%20%22fillRule%22%3A%20%22evenodd%22%2C%0A%20%20%22lineCap%22%3A%20%22round%22%2C%0A%20%20%22lineJoin%22%3A%20%22round%22%2C%0A%20%20%22noClip%22%3A%20false%2C%0A%20%20%22opacity%22%3A%200.8%2C%0A%20%20%22smoothFactor%22%3A%201.0%2C%0A%20%20%22stroke%22%3A%20true%2C%0A%20%20%22weight%22%3A%203%0A%7D%0A%20%20%20%20%20%20%20%20%20%20%20%20%20%20%20%20%20%20%20%20%29%0A%20%20%20%20%20%20%20%20%20%20%20%20%20%20%20%20%20%20%20%20.addTo%28map_71c1620d44454e7c8f03584b29d17655%29%3B%0A%20%20%20%20%20%20%20%20%20%20%20%20%0A%20%20%20%20%0A%20%20%20%20%20%20%20%20%20%20%20%20%20%20%20%20var%20lat_lng_popup_8918d6b857f14c7db14f815f4eb0d688%20%3D%20L.popup%28%29%3B%0A%20%20%20%20%20%20%20%20%20%20%20%20%20%20%20%20function%20latLngPop%28e%29%20%7B%0A%20%20%20%20%20%20%20%20%20%20%20%20%20%20%20%20%20%20%20%20lat_lng_popup_8918d6b857f14c7db14f815f4eb0d688%0A%20%20%20%20%20%20%20%20%20%20%20%20%20%20%20%20%20%20%20%20%20%20%20%20.setLatLng%28e.latlng%29%0A%20%20%20%20%20%20%20%20%20%20%20%20%20%20%20%20%20%20%20%20%20%20%20%20.setContent%28%22Latitude%3A%20%22%20%2B%20e.latlng.lat.toFixed%284%29%20%2B%0A%20%20%20%20%20%20%20%20%20%20%20%20%20%20%20%20%20%20%20%20%20%20%20%20%20%20%20%20%20%20%20%20%20%20%20%20%22%3Cbr%3ELongitude%3A%20%22%20%2B%20e.latlng.lng.toFixed%284%29%29%0A%20%20%20%20%20%20%20%20%20%20%20%20%20%20%20%20%20%20%20%20%20%20%20%20.openOn%28map_71c1620d44454e7c8f03584b29d17655%29%3B%0A%20%20%20%20%20%20%20%20%20%20%20%20%20%20%20%20%20%20%20%20%7D%0A%20%20%20%20%20%20%20%20%20%20%20%20%20%20%20%20map_71c1620d44454e7c8f03584b29d17655.on%28%27click%27%2C%20latLngPop%29%3B%0A%20%20%20%20%20%20%20%20%20%20%20%20%0A%3C/script%3E onload=\"this.contentDocument.open();this.contentDocument.write(    decodeURIComponent(this.getAttribute('data-html')));this.contentDocument.close();\" \"allowfullscreen\" \"webkitallowfullscreen\" \"mozallowfullscreen\"></iframe>"
            ],
            "text/plain": [
              "<branca.element.Figure at 0x7f73fa6c8cd0>"
            ]
          },
          "execution_count": 6,
          "metadata": {},
          "output_type": "execute_result"
        }
      ],
      "source": [
        "f = folium.Figure(width=800, height=800)\n",
        "m = display_map(lat,lon)\n",
        "f.add_child(m)"
      ]
    },
    {
      "cell_type": "markdown",
      "metadata": {
        "id": "cW4RAB8A5bms"
      },
      "source": [
        "## Load the Data"
      ]
    },
    {
      "cell_type": "code",
      "execution_count": null,
      "metadata": {
        "id": "q3y51eJkGrm4"
      },
      "outputs": [],
      "source": [
        "#3 MODIFY HERE\n",
        "\n",
        "# Load the dataset\n",
        "# Select the desired measurements. See the website below for a list of possible measurement names.\n",
        "# https://developers.google.com/earth-engine/datasets/catalog/ECMWF_ERA5_LAND_MONTHLY#bands\n",
        "\n",
        "ds = dc.load(asset='ECMWF/ERA5_LAND/MONTHLY', output_crs='EPSG:4326', resolution=(-0.1, 0.1),\n",
        "             lat=lat, lon=lon, time=(time_start, time_end), measurements=['temperature_2m','total_precipitation'])"
      ]
    },
    {
      "cell_type": "code",
      "execution_count": null,
      "metadata": {
        "id": "H23jb6hP5bmt"
      },
      "outputs": [],
      "source": [
        "# Convert temperature from Kelvin to Celsius \n",
        "ds['temperature_2m'] = ds['temperature_2m'].where(ds['temperature_2m'] < 9999)-273.15\n",
        "\n",
        "# Convert precipitation from Meters (m) to Millimeters (mm)\n",
        "ds['total_precipitation'] = ds['total_precipitation'].where(ds['total_precipitation'] < 9999)*1000"
      ]
    },
    {
      "cell_type": "code",
      "execution_count": null,
      "metadata": {
        "colab": {
          "base_uri": "https://localhost:8080/",
          "height": 321
        },
        "id": "19jMDQxbJzAr",
        "outputId": "98764824-1b21-4f2e-9576-f1938ebde366"
      },
      "outputs": [
        {
          "data": {
            "text/html": [
              "<div><svg style=\"position: absolute; width: 0; height: 0; overflow: hidden\">\n",
              "<defs>\n",
              "<symbol id=\"icon-database\" viewBox=\"0 0 32 32\">\n",
              "<path d=\"M16 0c-8.837 0-16 2.239-16 5v4c0 2.761 7.163 5 16 5s16-2.239 16-5v-4c0-2.761-7.163-5-16-5z\"></path>\n",
              "<path d=\"M16 17c-8.837 0-16-2.239-16-5v6c0 2.761 7.163 5 16 5s16-2.239 16-5v-6c0 2.761-7.163 5-16 5z\"></path>\n",
              "<path d=\"M16 26c-8.837 0-16-2.239-16-5v6c0 2.761 7.163 5 16 5s16-2.239 16-5v-6c0 2.761-7.163 5-16 5z\"></path>\n",
              "</symbol>\n",
              "<symbol id=\"icon-file-text2\" viewBox=\"0 0 32 32\">\n",
              "<path d=\"M28.681 7.159c-0.694-0.947-1.662-2.053-2.724-3.116s-2.169-2.030-3.116-2.724c-1.612-1.182-2.393-1.319-2.841-1.319h-15.5c-1.378 0-2.5 1.121-2.5 2.5v27c0 1.378 1.122 2.5 2.5 2.5h23c1.378 0 2.5-1.122 2.5-2.5v-19.5c0-0.448-0.137-1.23-1.319-2.841zM24.543 5.457c0.959 0.959 1.712 1.825 2.268 2.543h-4.811v-4.811c0.718 0.556 1.584 1.309 2.543 2.268zM28 29.5c0 0.271-0.229 0.5-0.5 0.5h-23c-0.271 0-0.5-0.229-0.5-0.5v-27c0-0.271 0.229-0.5 0.5-0.5 0 0 15.499-0 15.5 0v7c0 0.552 0.448 1 1 1h7v19.5z\"></path>\n",
              "<path d=\"M23 26h-14c-0.552 0-1-0.448-1-1s0.448-1 1-1h14c0.552 0 1 0.448 1 1s-0.448 1-1 1z\"></path>\n",
              "<path d=\"M23 22h-14c-0.552 0-1-0.448-1-1s0.448-1 1-1h14c0.552 0 1 0.448 1 1s-0.448 1-1 1z\"></path>\n",
              "<path d=\"M23 18h-14c-0.552 0-1-0.448-1-1s0.448-1 1-1h14c0.552 0 1 0.448 1 1s-0.448 1-1 1z\"></path>\n",
              "</symbol>\n",
              "</defs>\n",
              "</svg>\n",
              "<style>/* CSS stylesheet for displaying xarray objects in jupyterlab.\n",
              " *\n",
              " */\n",
              "\n",
              ":root {\n",
              "  --xr-font-color0: var(--jp-content-font-color0, rgba(0, 0, 0, 1));\n",
              "  --xr-font-color2: var(--jp-content-font-color2, rgba(0, 0, 0, 0.54));\n",
              "  --xr-font-color3: var(--jp-content-font-color3, rgba(0, 0, 0, 0.38));\n",
              "  --xr-border-color: var(--jp-border-color2, #e0e0e0);\n",
              "  --xr-disabled-color: var(--jp-layout-color3, #bdbdbd);\n",
              "  --xr-background-color: var(--jp-layout-color0, white);\n",
              "  --xr-background-color-row-even: var(--jp-layout-color1, white);\n",
              "  --xr-background-color-row-odd: var(--jp-layout-color2, #eeeeee);\n",
              "}\n",
              "\n",
              "html[theme=dark],\n",
              "body.vscode-dark {\n",
              "  --xr-font-color0: rgba(255, 255, 255, 1);\n",
              "  --xr-font-color2: rgba(255, 255, 255, 0.54);\n",
              "  --xr-font-color3: rgba(255, 255, 255, 0.38);\n",
              "  --xr-border-color: #1F1F1F;\n",
              "  --xr-disabled-color: #515151;\n",
              "  --xr-background-color: #111111;\n",
              "  --xr-background-color-row-even: #111111;\n",
              "  --xr-background-color-row-odd: #313131;\n",
              "}\n",
              "\n",
              ".xr-wrap {\n",
              "  display: block !important;\n",
              "  min-width: 300px;\n",
              "  max-width: 700px;\n",
              "}\n",
              "\n",
              ".xr-text-repr-fallback {\n",
              "  /* fallback to plain text repr when CSS is not injected (untrusted notebook) */\n",
              "  display: none;\n",
              "}\n",
              "\n",
              ".xr-header {\n",
              "  padding-top: 6px;\n",
              "  padding-bottom: 6px;\n",
              "  margin-bottom: 4px;\n",
              "  border-bottom: solid 1px var(--xr-border-color);\n",
              "}\n",
              "\n",
              ".xr-header > div,\n",
              ".xr-header > ul {\n",
              "  display: inline;\n",
              "  margin-top: 0;\n",
              "  margin-bottom: 0;\n",
              "}\n",
              "\n",
              ".xr-obj-type,\n",
              ".xr-array-name {\n",
              "  margin-left: 2px;\n",
              "  margin-right: 10px;\n",
              "}\n",
              "\n",
              ".xr-obj-type {\n",
              "  color: var(--xr-font-color2);\n",
              "}\n",
              "\n",
              ".xr-sections {\n",
              "  padding-left: 0 !important;\n",
              "  display: grid;\n",
              "  grid-template-columns: 150px auto auto 1fr 20px 20px;\n",
              "}\n",
              "\n",
              ".xr-section-item {\n",
              "  display: contents;\n",
              "}\n",
              "\n",
              ".xr-section-item input {\n",
              "  display: none;\n",
              "}\n",
              "\n",
              ".xr-section-item input + label {\n",
              "  color: var(--xr-disabled-color);\n",
              "}\n",
              "\n",
              ".xr-section-item input:enabled + label {\n",
              "  cursor: pointer;\n",
              "  color: var(--xr-font-color2);\n",
              "}\n",
              "\n",
              ".xr-section-item input:enabled + label:hover {\n",
              "  color: var(--xr-font-color0);\n",
              "}\n",
              "\n",
              ".xr-section-summary {\n",
              "  grid-column: 1;\n",
              "  color: var(--xr-font-color2);\n",
              "  font-weight: 500;\n",
              "}\n",
              "\n",
              ".xr-section-summary > span {\n",
              "  display: inline-block;\n",
              "  padding-left: 0.5em;\n",
              "}\n",
              "\n",
              ".xr-section-summary-in:disabled + label {\n",
              "  color: var(--xr-font-color2);\n",
              "}\n",
              "\n",
              ".xr-section-summary-in + label:before {\n",
              "  display: inline-block;\n",
              "  content: '►';\n",
              "  font-size: 11px;\n",
              "  width: 15px;\n",
              "  text-align: center;\n",
              "}\n",
              "\n",
              ".xr-section-summary-in:disabled + label:before {\n",
              "  color: var(--xr-disabled-color);\n",
              "}\n",
              "\n",
              ".xr-section-summary-in:checked + label:before {\n",
              "  content: '▼';\n",
              "}\n",
              "\n",
              ".xr-section-summary-in:checked + label > span {\n",
              "  display: none;\n",
              "}\n",
              "\n",
              ".xr-section-summary,\n",
              ".xr-section-inline-details {\n",
              "  padding-top: 4px;\n",
              "  padding-bottom: 4px;\n",
              "}\n",
              "\n",
              ".xr-section-inline-details {\n",
              "  grid-column: 2 / -1;\n",
              "}\n",
              "\n",
              ".xr-section-details {\n",
              "  display: none;\n",
              "  grid-column: 1 / -1;\n",
              "  margin-bottom: 5px;\n",
              "}\n",
              "\n",
              ".xr-section-summary-in:checked ~ .xr-section-details {\n",
              "  display: contents;\n",
              "}\n",
              "\n",
              ".xr-array-wrap {\n",
              "  grid-column: 1 / -1;\n",
              "  display: grid;\n",
              "  grid-template-columns: 20px auto;\n",
              "}\n",
              "\n",
              ".xr-array-wrap > label {\n",
              "  grid-column: 1;\n",
              "  vertical-align: top;\n",
              "}\n",
              "\n",
              ".xr-preview {\n",
              "  color: var(--xr-font-color3);\n",
              "}\n",
              "\n",
              ".xr-array-preview,\n",
              ".xr-array-data {\n",
              "  padding: 0 5px !important;\n",
              "  grid-column: 2;\n",
              "}\n",
              "\n",
              ".xr-array-data,\n",
              ".xr-array-in:checked ~ .xr-array-preview {\n",
              "  display: none;\n",
              "}\n",
              "\n",
              ".xr-array-in:checked ~ .xr-array-data,\n",
              ".xr-array-preview {\n",
              "  display: inline-block;\n",
              "}\n",
              "\n",
              ".xr-dim-list {\n",
              "  display: inline-block !important;\n",
              "  list-style: none;\n",
              "  padding: 0 !important;\n",
              "  margin: 0;\n",
              "}\n",
              "\n",
              ".xr-dim-list li {\n",
              "  display: inline-block;\n",
              "  padding: 0;\n",
              "  margin: 0;\n",
              "}\n",
              "\n",
              ".xr-dim-list:before {\n",
              "  content: '(';\n",
              "}\n",
              "\n",
              ".xr-dim-list:after {\n",
              "  content: ')';\n",
              "}\n",
              "\n",
              ".xr-dim-list li:not(:last-child):after {\n",
              "  content: ',';\n",
              "  padding-right: 5px;\n",
              "}\n",
              "\n",
              ".xr-has-index {\n",
              "  font-weight: bold;\n",
              "}\n",
              "\n",
              ".xr-var-list,\n",
              ".xr-var-item {\n",
              "  display: contents;\n",
              "}\n",
              "\n",
              ".xr-var-item > div,\n",
              ".xr-var-item label,\n",
              ".xr-var-item > .xr-var-name span {\n",
              "  background-color: var(--xr-background-color-row-even);\n",
              "  margin-bottom: 0;\n",
              "}\n",
              "\n",
              ".xr-var-item > .xr-var-name:hover span {\n",
              "  padding-right: 5px;\n",
              "}\n",
              "\n",
              ".xr-var-list > li:nth-child(odd) > div,\n",
              ".xr-var-list > li:nth-child(odd) > label,\n",
              ".xr-var-list > li:nth-child(odd) > .xr-var-name span {\n",
              "  background-color: var(--xr-background-color-row-odd);\n",
              "}\n",
              "\n",
              ".xr-var-name {\n",
              "  grid-column: 1;\n",
              "}\n",
              "\n",
              ".xr-var-dims {\n",
              "  grid-column: 2;\n",
              "}\n",
              "\n",
              ".xr-var-dtype {\n",
              "  grid-column: 3;\n",
              "  text-align: right;\n",
              "  color: var(--xr-font-color2);\n",
              "}\n",
              "\n",
              ".xr-var-preview {\n",
              "  grid-column: 4;\n",
              "}\n",
              "\n",
              ".xr-var-name,\n",
              ".xr-var-dims,\n",
              ".xr-var-dtype,\n",
              ".xr-preview,\n",
              ".xr-attrs dt {\n",
              "  white-space: nowrap;\n",
              "  overflow: hidden;\n",
              "  text-overflow: ellipsis;\n",
              "  padding-right: 10px;\n",
              "}\n",
              "\n",
              ".xr-var-name:hover,\n",
              ".xr-var-dims:hover,\n",
              ".xr-var-dtype:hover,\n",
              ".xr-attrs dt:hover {\n",
              "  overflow: visible;\n",
              "  width: auto;\n",
              "  z-index: 1;\n",
              "}\n",
              "\n",
              ".xr-var-attrs,\n",
              ".xr-var-data {\n",
              "  display: none;\n",
              "  background-color: var(--xr-background-color) !important;\n",
              "  padding-bottom: 5px !important;\n",
              "}\n",
              "\n",
              ".xr-var-attrs-in:checked ~ .xr-var-attrs,\n",
              ".xr-var-data-in:checked ~ .xr-var-data {\n",
              "  display: block;\n",
              "}\n",
              "\n",
              ".xr-var-data > table {\n",
              "  float: right;\n",
              "}\n",
              "\n",
              ".xr-var-name span,\n",
              ".xr-var-data,\n",
              ".xr-attrs {\n",
              "  padding-left: 25px !important;\n",
              "}\n",
              "\n",
              ".xr-attrs,\n",
              ".xr-var-attrs,\n",
              ".xr-var-data {\n",
              "  grid-column: 1 / -1;\n",
              "}\n",
              "\n",
              "dl.xr-attrs {\n",
              "  padding: 0;\n",
              "  margin: 0;\n",
              "  display: grid;\n",
              "  grid-template-columns: 125px auto;\n",
              "}\n",
              "\n",
              ".xr-attrs dt,\n",
              ".xr-attrs dd {\n",
              "  padding: 0;\n",
              "  margin: 0;\n",
              "  float: left;\n",
              "  padding-right: 10px;\n",
              "  width: auto;\n",
              "}\n",
              "\n",
              ".xr-attrs dt {\n",
              "  font-weight: normal;\n",
              "  grid-column: 1;\n",
              "}\n",
              "\n",
              ".xr-attrs dt:hover span {\n",
              "  display: inline-block;\n",
              "  background: var(--xr-background-color);\n",
              "  padding-right: 10px;\n",
              "}\n",
              "\n",
              ".xr-attrs dd {\n",
              "  grid-column: 2;\n",
              "  white-space: pre-wrap;\n",
              "  word-break: break-all;\n",
              "}\n",
              "\n",
              ".xr-icon-database,\n",
              ".xr-icon-file-text2 {\n",
              "  display: inline-block;\n",
              "  vertical-align: middle;\n",
              "  width: 1em;\n",
              "  height: 1.5em !important;\n",
              "  stroke-width: 0;\n",
              "  stroke: currentColor;\n",
              "  fill: currentColor;\n",
              "}\n",
              "</style><pre class='xr-text-repr-fallback'>&lt;xarray.Dataset&gt;\n",
              "Dimensions:              (time: 47, latitude: 2, longitude: 2)\n",
              "Coordinates:\n",
              "  * time                 (time) datetime64[ns] 2018-01-01 ... 2021-11-01\n",
              "  * latitude             (latitude) float64 18.05 17.95\n",
              "  * longitude            (longitude) float64 -76.85 -76.75\n",
              "    spatial_ref          int32 4326\n",
              "Data variables:\n",
              "    temperature_2m       (time, latitude, longitude) float64 nan 22.59 ... nan\n",
              "    total_precipitation  (time, latitude, longitude) float64 nan 4.251 ... nan\n",
              "Attributes:\n",
              "    crs:           EPSG:4326\n",
              "    grid_mapping:  spatial_ref</pre><div class='xr-wrap' style='display:none'><div class='xr-header'><div class='xr-obj-type'>xarray.Dataset</div></div><ul class='xr-sections'><li class='xr-section-item'><input id='section-095de7d2-ff05-46f0-80d3-07b7832849d6' class='xr-section-summary-in' type='checkbox' disabled ><label for='section-095de7d2-ff05-46f0-80d3-07b7832849d6' class='xr-section-summary'  title='Expand/collapse section'>Dimensions:</label><div class='xr-section-inline-details'><ul class='xr-dim-list'><li><span class='xr-has-index'>time</span>: 47</li><li><span class='xr-has-index'>latitude</span>: 2</li><li><span class='xr-has-index'>longitude</span>: 2</li></ul></div><div class='xr-section-details'></div></li><li class='xr-section-item'><input id='section-92acd553-7bef-40c7-87f1-6f6b979a3037' class='xr-section-summary-in' type='checkbox'  checked><label for='section-92acd553-7bef-40c7-87f1-6f6b979a3037' class='xr-section-summary' >Coordinates: <span>(4)</span></label><div class='xr-section-inline-details'></div><div class='xr-section-details'><ul class='xr-var-list'><li class='xr-var-item'><div class='xr-var-name'><span class='xr-has-index'>time</span></div><div class='xr-var-dims'>(time)</div><div class='xr-var-dtype'>datetime64[ns]</div><div class='xr-var-preview xr-preview'>2018-01-01 ... 2021-11-01</div><input id='attrs-99aeb85f-82a4-4795-b761-bceaf86268b2' class='xr-var-attrs-in' type='checkbox' ><label for='attrs-99aeb85f-82a4-4795-b761-bceaf86268b2' title='Show/Hide attributes'><svg class='icon xr-icon-file-text2'><use xlink:href='#icon-file-text2'></use></svg></label><input id='data-e00ee845-c497-4a52-b869-1fcc4e82d088' class='xr-var-data-in' type='checkbox'><label for='data-e00ee845-c497-4a52-b869-1fcc4e82d088' title='Show/Hide data repr'><svg class='icon xr-icon-database'><use xlink:href='#icon-database'></use></svg></label><div class='xr-var-attrs'><dl class='xr-attrs'><dt><span>units :</span></dt><dd>seconds since 1970-01-01 00:00:00</dd></dl></div><div class='xr-var-data'><pre>array([&#x27;2018-01-01T00:00:00.000000000&#x27;, &#x27;2018-02-01T00:00:00.000000000&#x27;,\n",
              "       &#x27;2018-03-01T00:00:00.000000000&#x27;, &#x27;2018-04-01T00:00:00.000000000&#x27;,\n",
              "       &#x27;2018-05-01T00:00:00.000000000&#x27;, &#x27;2018-06-01T00:00:00.000000000&#x27;,\n",
              "       &#x27;2018-07-01T00:00:00.000000000&#x27;, &#x27;2018-08-01T00:00:00.000000000&#x27;,\n",
              "       &#x27;2018-09-01T00:00:00.000000000&#x27;, &#x27;2018-10-01T00:00:00.000000000&#x27;,\n",
              "       &#x27;2018-11-01T00:00:00.000000000&#x27;, &#x27;2018-12-01T00:00:00.000000000&#x27;,\n",
              "       &#x27;2019-01-01T00:00:00.000000000&#x27;, &#x27;2019-02-01T00:00:00.000000000&#x27;,\n",
              "       &#x27;2019-03-01T00:00:00.000000000&#x27;, &#x27;2019-04-01T00:00:00.000000000&#x27;,\n",
              "       &#x27;2019-05-01T00:00:00.000000000&#x27;, &#x27;2019-06-01T00:00:00.000000000&#x27;,\n",
              "       &#x27;2019-07-01T00:00:00.000000000&#x27;, &#x27;2019-08-01T00:00:00.000000000&#x27;,\n",
              "       &#x27;2019-09-01T00:00:00.000000000&#x27;, &#x27;2019-10-01T00:00:00.000000000&#x27;,\n",
              "       &#x27;2019-11-01T00:00:00.000000000&#x27;, &#x27;2019-12-01T00:00:00.000000000&#x27;,\n",
              "       &#x27;2020-01-01T00:00:00.000000000&#x27;, &#x27;2020-02-01T00:00:00.000000000&#x27;,\n",
              "       &#x27;2020-03-01T00:00:00.000000000&#x27;, &#x27;2020-04-01T00:00:00.000000000&#x27;,\n",
              "       &#x27;2020-05-01T00:00:00.000000000&#x27;, &#x27;2020-06-01T00:00:00.000000000&#x27;,\n",
              "       &#x27;2020-07-01T00:00:00.000000000&#x27;, &#x27;2020-08-01T00:00:00.000000000&#x27;,\n",
              "       &#x27;2020-09-01T00:00:00.000000000&#x27;, &#x27;2020-10-01T00:00:00.000000000&#x27;,\n",
              "       &#x27;2020-11-01T00:00:00.000000000&#x27;, &#x27;2020-12-01T00:00:00.000000000&#x27;,\n",
              "       &#x27;2021-01-01T00:00:00.000000000&#x27;, &#x27;2021-02-01T00:00:00.000000000&#x27;,\n",
              "       &#x27;2021-03-01T00:00:00.000000000&#x27;, &#x27;2021-04-01T00:00:00.000000000&#x27;,\n",
              "       &#x27;2021-05-01T00:00:00.000000000&#x27;, &#x27;2021-06-01T00:00:00.000000000&#x27;,\n",
              "       &#x27;2021-07-01T00:00:00.000000000&#x27;, &#x27;2021-08-01T00:00:00.000000000&#x27;,\n",
              "       &#x27;2021-09-01T00:00:00.000000000&#x27;, &#x27;2021-10-01T00:00:00.000000000&#x27;,\n",
              "       &#x27;2021-11-01T00:00:00.000000000&#x27;], dtype=&#x27;datetime64[ns]&#x27;)</pre></div></li><li class='xr-var-item'><div class='xr-var-name'><span class='xr-has-index'>latitude</span></div><div class='xr-var-dims'>(latitude)</div><div class='xr-var-dtype'>float64</div><div class='xr-var-preview xr-preview'>18.05 17.95</div><input id='attrs-4a1b6563-2d3c-4cb1-b488-c0eeb9092e93' class='xr-var-attrs-in' type='checkbox' ><label for='attrs-4a1b6563-2d3c-4cb1-b488-c0eeb9092e93' title='Show/Hide attributes'><svg class='icon xr-icon-file-text2'><use xlink:href='#icon-file-text2'></use></svg></label><input id='data-c3270edc-3fa9-47b3-9edd-a16019b76570' class='xr-var-data-in' type='checkbox'><label for='data-c3270edc-3fa9-47b3-9edd-a16019b76570' title='Show/Hide data repr'><svg class='icon xr-icon-database'><use xlink:href='#icon-database'></use></svg></label><div class='xr-var-attrs'><dl class='xr-attrs'><dt><span>units :</span></dt><dd>degrees_north</dd><dt><span>resolution :</span></dt><dd>-0.1</dd><dt><span>crs :</span></dt><dd>EPSG:4326</dd></dl></div><div class='xr-var-data'><pre>array([18.05, 17.95])</pre></div></li><li class='xr-var-item'><div class='xr-var-name'><span class='xr-has-index'>longitude</span></div><div class='xr-var-dims'>(longitude)</div><div class='xr-var-dtype'>float64</div><div class='xr-var-preview xr-preview'>-76.85 -76.75</div><input id='attrs-a2a29e3c-fc54-4ca2-9cc4-782fcc34f293' class='xr-var-attrs-in' type='checkbox' ><label for='attrs-a2a29e3c-fc54-4ca2-9cc4-782fcc34f293' title='Show/Hide attributes'><svg class='icon xr-icon-file-text2'><use xlink:href='#icon-file-text2'></use></svg></label><input id='data-9f67b141-2872-4ae9-bce7-e91057647b1d' class='xr-var-data-in' type='checkbox'><label for='data-9f67b141-2872-4ae9-bce7-e91057647b1d' title='Show/Hide data repr'><svg class='icon xr-icon-database'><use xlink:href='#icon-database'></use></svg></label><div class='xr-var-attrs'><dl class='xr-attrs'><dt><span>units :</span></dt><dd>degrees_east</dd><dt><span>resolution :</span></dt><dd>0.1</dd><dt><span>crs :</span></dt><dd>EPSG:4326</dd></dl></div><div class='xr-var-data'><pre>array([-76.85, -76.75])</pre></div></li><li class='xr-var-item'><div class='xr-var-name'><span>spatial_ref</span></div><div class='xr-var-dims'>()</div><div class='xr-var-dtype'>int32</div><div class='xr-var-preview xr-preview'>4326</div><input id='attrs-c48b6850-f425-404a-b145-e37671519ac1' class='xr-var-attrs-in' type='checkbox' ><label for='attrs-c48b6850-f425-404a-b145-e37671519ac1' title='Show/Hide attributes'><svg class='icon xr-icon-file-text2'><use xlink:href='#icon-file-text2'></use></svg></label><input id='data-a72cc601-ba91-4ff2-bd24-bd44e6fda52d' class='xr-var-data-in' type='checkbox'><label for='data-a72cc601-ba91-4ff2-bd24-bd44e6fda52d' title='Show/Hide data repr'><svg class='icon xr-icon-database'><use xlink:href='#icon-database'></use></svg></label><div class='xr-var-attrs'><dl class='xr-attrs'><dt><span>spatial_ref :</span></dt><dd>GEOGCS[&quot;WGS 84&quot;,DATUM[&quot;WGS_1984&quot;,SPHEROID[&quot;WGS 84&quot;,6378137,298.257223563,AUTHORITY[&quot;EPSG&quot;,&quot;7030&quot;]],AUTHORITY[&quot;EPSG&quot;,&quot;6326&quot;]],PRIMEM[&quot;Greenwich&quot;,0,AUTHORITY[&quot;EPSG&quot;,&quot;8901&quot;]],UNIT[&quot;degree&quot;,0.0174532925199433,AUTHORITY[&quot;EPSG&quot;,&quot;9122&quot;]],AUTHORITY[&quot;EPSG&quot;,&quot;4326&quot;]]</dd><dt><span>grid_mapping_name :</span></dt><dd>latitude_longitude</dd></dl></div><div class='xr-var-data'><pre>array(4326, dtype=int32)</pre></div></li></ul></div></li><li class='xr-section-item'><input id='section-235c27e7-981f-4200-ae96-72d01adbb44b' class='xr-section-summary-in' type='checkbox'  checked><label for='section-235c27e7-981f-4200-ae96-72d01adbb44b' class='xr-section-summary' >Data variables: <span>(2)</span></label><div class='xr-section-inline-details'></div><div class='xr-section-details'><ul class='xr-var-list'><li class='xr-var-item'><div class='xr-var-name'><span>temperature_2m</span></div><div class='xr-var-dims'>(time, latitude, longitude)</div><div class='xr-var-dtype'>float64</div><div class='xr-var-preview xr-preview'>nan 22.59 nan nan ... 24.28 nan nan</div><input id='attrs-4584c79f-b62d-4c02-acad-95c32c5d3a0b' class='xr-var-attrs-in' type='checkbox' disabled><label for='attrs-4584c79f-b62d-4c02-acad-95c32c5d3a0b' title='Show/Hide attributes'><svg class='icon xr-icon-file-text2'><use xlink:href='#icon-file-text2'></use></svg></label><input id='data-bfb81a71-654e-4b96-930b-af54d1bf2128' class='xr-var-data-in' type='checkbox'><label for='data-bfb81a71-654e-4b96-930b-af54d1bf2128' title='Show/Hide data repr'><svg class='icon xr-icon-database'><use xlink:href='#icon-database'></use></svg></label><div class='xr-var-attrs'><dl class='xr-attrs'></dl></div><div class='xr-var-data'><pre>array([[[        nan, 22.59171448],\n",
              "        [        nan,         nan]],\n",
              "\n",
              "       [[        nan, 22.42461548],\n",
              "        [        nan,         nan]],\n",
              "\n",
              "       [[        nan, 22.84394226],\n",
              "        [        nan,         nan]],\n",
              "\n",
              "       [[        nan, 24.00480042],\n",
              "        [        nan,         nan]],\n",
              "\n",
              "       [[        nan, 23.87108765],\n",
              "        [        nan,         nan]],\n",
              "\n",
              "       [[        nan, 25.18282471],\n",
              "        [        nan,         nan]],\n",
              "\n",
              "       [[        nan, 25.9571167 ],\n",
              "        [        nan,         nan]],\n",
              "...\n",
              "       [[        nan, 25.00045166],\n",
              "        [        nan,         nan]],\n",
              "\n",
              "       [[        nan, 25.43409119],\n",
              "        [        nan,         nan]],\n",
              "\n",
              "       [[        nan, 25.78734741],\n",
              "        [        nan,         nan]],\n",
              "\n",
              "       [[        nan, 25.70237122],\n",
              "        [        nan,         nan]],\n",
              "\n",
              "       [[        nan, 25.77247009],\n",
              "        [        nan,         nan]],\n",
              "\n",
              "       [[        nan, 24.99759827],\n",
              "        [        nan,         nan]],\n",
              "\n",
              "       [[        nan, 24.28017578],\n",
              "        [        nan,         nan]]])</pre></div></li><li class='xr-var-item'><div class='xr-var-name'><span>total_precipitation</span></div><div class='xr-var-dims'>(time, latitude, longitude)</div><div class='xr-var-dtype'>float64</div><div class='xr-var-preview xr-preview'>nan 4.251 nan nan ... 1.629 nan nan</div><input id='attrs-c7ba868e-390e-41e1-83c7-9d2957fc5079' class='xr-var-attrs-in' type='checkbox' disabled><label for='attrs-c7ba868e-390e-41e1-83c7-9d2957fc5079' title='Show/Hide attributes'><svg class='icon xr-icon-file-text2'><use xlink:href='#icon-file-text2'></use></svg></label><input id='data-ef42fbbe-914c-4069-8566-fdf5d16079d5' class='xr-var-data-in' type='checkbox'><label for='data-ef42fbbe-914c-4069-8566-fdf5d16079d5' title='Show/Hide data repr'><svg class='icon xr-icon-database'><use xlink:href='#icon-database'></use></svg></label><div class='xr-var-attrs'><dl class='xr-attrs'></dl></div><div class='xr-var-data'><pre>array([[[        nan,  4.25059872],\n",
              "        [        nan,         nan]],\n",
              "\n",
              "       [[        nan,  1.75534572],\n",
              "        [        nan,         nan]],\n",
              "\n",
              "       [[        nan,  0.89053545],\n",
              "        [        nan,         nan]],\n",
              "\n",
              "       [[        nan,  1.13302757],\n",
              "        [        nan,         nan]],\n",
              "\n",
              "       [[        nan,  5.59421451],\n",
              "        [        nan,         nan]],\n",
              "\n",
              "       [[        nan,  1.64001802],\n",
              "        [        nan,         nan]],\n",
              "\n",
              "       [[        nan,  1.38454226],\n",
              "        [        nan,         nan]],\n",
              "...\n",
              "       [[        nan,  1.01809093],\n",
              "        [        nan,         nan]],\n",
              "\n",
              "       [[        nan,  1.9368462 ],\n",
              "        [        nan,         nan]],\n",
              "\n",
              "       [[        nan,  2.18463247],\n",
              "        [        nan,         nan]],\n",
              "\n",
              "       [[        nan,  8.44344482],\n",
              "        [        nan,         nan]],\n",
              "\n",
              "       [[        nan,  1.34401818],\n",
              "        [        nan,         nan]],\n",
              "\n",
              "       [[        nan,  4.21523553],\n",
              "        [        nan,         nan]],\n",
              "\n",
              "       [[        nan,  1.62937214],\n",
              "        [        nan,         nan]]])</pre></div></li></ul></div></li><li class='xr-section-item'><input id='section-96687850-9797-4122-ae1c-b34c1c7d838e' class='xr-section-summary-in' type='checkbox'  checked><label for='section-96687850-9797-4122-ae1c-b34c1c7d838e' class='xr-section-summary' >Attributes: <span>(2)</span></label><div class='xr-section-inline-details'></div><div class='xr-section-details'><dl class='xr-attrs'><dt><span>crs :</span></dt><dd>EPSG:4326</dd><dt><span>grid_mapping :</span></dt><dd>spatial_ref</dd></dl></div></li></ul></div></div>"
            ],
            "text/plain": [
              "<xarray.Dataset>\n",
              "Dimensions:              (time: 47, latitude: 2, longitude: 2)\n",
              "Coordinates:\n",
              "  * time                 (time) datetime64[ns] 2018-01-01 ... 2021-11-01\n",
              "  * latitude             (latitude) float64 18.05 17.95\n",
              "  * longitude            (longitude) float64 -76.85 -76.75\n",
              "    spatial_ref          int32 4326\n",
              "Data variables:\n",
              "    temperature_2m       (time, latitude, longitude) float64 nan 22.59 ... nan\n",
              "    total_precipitation  (time, latitude, longitude) float64 nan 4.251 ... nan\n",
              "Attributes:\n",
              "    crs:           EPSG:4326\n",
              "    grid_mapping:  spatial_ref"
            ]
          },
          "execution_count": 9,
          "metadata": {},
          "output_type": "execute_result"
        }
      ],
      "source": [
        "# Show sample dataset array\n",
        "# The latitude and longitude dimensions show the number of data tiles in the region\n",
        "ds"
      ]
    },
    {
      "cell_type": "markdown",
      "metadata": {
        "id": "BoVGYOxP5bmu"
      },
      "source": [
        "## Plot Monthly Air Temperature at 2-meters height"
      ]
    },
    {
      "cell_type": "code",
      "execution_count": null,
      "metadata": {
        "colab": {
          "base_uri": "https://localhost:8080/",
          "height": 326
        },
        "id": "x1Jvwqya5bmu",
        "outputId": "e76ebead-66df-4c63-921c-fbc4f551f4f6",
        "scrolled": true
      },
      "outputs": [
        {
          "data": {
            "image/png": "[encoded data removed]",
            "text/plain": [
              "<Figure size 864x288 with 1 Axes>"
            ]
          },
          "metadata": {
            "needs_background": "light"
          },
          "output_type": "display_data"
        }
      ],
      "source": [
        "# Plot mean monthly temperature for the area defined by the Lat-Lon region above\n",
        "img1 = ds['temperature_2m'].mean(dim=['longitude','latitude']).plot(figsize=(12,4),marker='o',markersize=4,linewidth=1)\n",
        "img1[0].axes.set_title(\"Mean Monthly Temperature\");"
      ]
    },
    {
      "cell_type": "code",
      "execution_count": null,
      "metadata": {
        "id": "KqYqrTMf5bmv"
      },
      "outputs": [],
      "source": [
        "# Calculate Statistics (Min, Max, Mean)\n",
        "min_temp = ds['temperature_2m'].min(['latitude', 'longitude', 'time']).values\n",
        "max_temp = ds['temperature_2m'].max(['latitude', 'longitude', 'time']).values\n",
        "mean_temp = ds['temperature_2m'].mean(['latitude', 'longitude', 'time']).values"
      ]
    },
    {
      "cell_type": "code",
      "execution_count": null,
      "metadata": {
        "colab": {
          "base_uri": "https://localhost:8080/"
        },
        "id": "4G3HGdYI5bmv",
        "outputId": "edc943c9-9b5a-4590-a7d7-ea08b141c53b"
      },
      "outputs": [
        {
          "name": "stdout",
          "output_type": "stream",
          "text": [
            "Min Temperature = 22.42\n",
            "Max Temperature = 26.54\n",
            "Mean Temperature = 24.55\n"
          ]
        }
      ],
      "source": [
        "print(f'Min Temperature = {min_temp.round(2)}')\n",
        "print(f'Max Temperature = {max_temp.round(2)}')\n",
        "print(f'Mean Temperature = {mean_temp.round(2)}')"
      ]
    },
    {
      "cell_type": "markdown",
      "metadata": {
        "id": "DHuoUD6M5bmw"
      },
      "source": [
        "## Plot Monthly Precipitation"
      ]
    },
    {
      "cell_type": "code",
      "execution_count": null,
      "metadata": {
        "colab": {
          "base_uri": "https://localhost:8080/",
          "height": 326
        },
        "id": "VoVJisi55bmw",
        "outputId": "48040e0c-d665-4cae-95bc-216f92aaf246",
        "scrolled": false
      },
      "outputs": [
        {
          "data": {
            "image/png": "[encoded data removed]",
            "text/plain": [
              "<Figure size 864x288 with 1 Axes>"
            ]
          },
          "metadata": {
            "needs_background": "light"
          },
          "output_type": "display_data"
        }
      ],
      "source": [
        "# Plot mean monthly accumulated precipitation for an area defined by the Lat-Lon region above\n",
        "img2 = ds['total_precipitation'].mean(dim=['longitude','latitude']).plot(figsize=(12,4),marker='o',markersize=4,linewidth=1)\n",
        "img2[0].axes.set_title(\"Daily Mean Precipitation per Month (millimeters)\");"
      ]
    },
    {
      "cell_type": "code",
      "execution_count": null,
      "metadata": {
        "id": "7IoSC1gZ5bmx"
      },
      "outputs": [],
      "source": [
        "# Calculate Statistics (Min, Max, Mean)\n",
        "min_rainfall = ds['total_precipitation'].min(['latitude', 'longitude', 'time']).values\n",
        "max_rainfall = ds['total_precipitation'].max(['latitude', 'longitude', 'time']).values\n",
        "mean_rainfall = ds['total_precipitation'].mean(['latitude', 'longitude', 'time']).values"
      ]
    },
    {
      "cell_type": "code",
      "execution_count": null,
      "metadata": {
        "colab": {
          "base_uri": "https://localhost:8080/"
        },
        "id": "KL6feY_05bmx",
        "outputId": "3f635473-0f8a-4cec-e07b-c843faa03404"
      },
      "outputs": [
        {
          "name": "stdout",
          "output_type": "stream",
          "text": [
            "Min Rainfall = 0.7\n",
            "Max Rainfall = 11.6\n",
            "Mean Rainfall = 2.7\n",
            "Annual Rainfall (mm) = 985.74\n"
          ]
        }
      ],
      "source": [
        "print(f'Min Rainfall = {min_rainfall.round(2)}\\nMax Rainfall = {max_rainfall.round(2)}')\n",
        "print(f'Mean Rainfall = {mean_rainfall.round(2)}')\n",
        "print(f'Annual Rainfall (mm) = {(mean_rainfall*365).round(2)}')"
      ]
    },
    {
      "cell_type": "markdown",
      "metadata": {
        "id": "kSS8YqT65bmx"
      },
      "source": [
        "## CSV Output"
      ]
    },
    {
      "cell_type": "code",
      "execution_count": null,
      "metadata": {
        "id": "UZ2ru39K5bmx"
      },
      "outputs": [],
      "source": [
        "#4 MODIFY HERE\n",
        "\n",
        "# Output monthly mean temperature\n",
        "# filename1 = \"output/monthly_temperature_example.csv\"\n",
        "# ds['temperature_2m'].mean(dim=['longitude', 'latitude']).to_dataframe().to_csv(filename1)\n",
        "\n",
        "# Output monthly rainfall accumulation\n",
        "# filename2 = \"output/monthly_rainfall_example.csv\"\n",
        "# ds['total_precipitation'].mean(dim=['longitude', 'latitude']).to_dataframe().to_csv(filename2)"
      ]
    }
  ],
  "metadata": {
    "colab": {
      "collapsed_sections": [],
      "name": "Brian_Rainfall_AirTemp_v3.ipynb",
      "provenance": []
    },
    "kernelspec": {
      "display_name": "Python 3",
      "language": "python",
      "name": "python3"
    },
    "language_info": {
      "codemirror_mode": {
        "name": "ipython",
        "version": 3
      },
      "file_extension": ".py",
      "mimetype": "text/x-python",
      "name": "python",
      "nbconvert_exporter": "python",
      "pygments_lexer": "ipython3",
      "version": "3.8.5"
    }
  },
  "nbformat": 4,
  "nbformat_minor": 0
}
